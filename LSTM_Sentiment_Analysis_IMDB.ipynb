{
 "cells": [
  {
   "cell_type": "markdown",
   "id": "6083547a",
   "metadata": {},
   "source": [
    "# LSTM-Based Sentiment Analysis on IMDB Movie Reviews\n",
    "\n",
    "This project implements a bidirectional LSTM neural network for sentiment analysis on movie reviews using the IMDB dataset.\n",
    "\n",
    "## Project Overview\n",
    "\n",
    "This project demonstrates **natural language processing (NLP)** and **sentiment classification** using deep learning techniques, specifically focusing on Long Short-Term Memory (LSTM) networks for sequence modeling.\n",
    "\n",
    "### **Dataset**: IMDB Movie Reviews\n",
    "- **Size**: 50,000 movie reviews (25,000 train + 25,000 test)\n",
    "- **Classes**: 2 (Positive and Negative sentiment)\n",
    "- **Task**: Binary sentiment classification\n",
    "- **Text Length**: Up to 256 tokens per review (truncated)\n",
    "- **Challenge**: Variable-length sequences and complex language patterns\n",
    "\n",
    "### **Model Architecture**: Bidirectional LSTM\n",
    "- **Embedding Layer**: 300-dimensional word embeddings\n",
    "- **LSTM Encoder**: 2-layer bidirectional LSTM (300 hidden units each direction)\n",
    "- **Architecture Flow**: \n",
    "  - Token IDs → Embeddings → Packed Sequences → Bi-LSTM → Sentence Vector → Classification\n",
    "- **Output**: Binary classification logits (Positive/Negative)\n",
    "- **Parameters**: ~10.1M trainable parameters\n",
    "\n",
    "### **Key Features**:\n",
    "\n",
    "#### **1. Advanced Text Processing**\n",
    "- **Tokenization**: Basic English tokenizer with punctuation handling\n",
    "- **Vocabulary Building**: Custom vocabulary from training data with UNK/PAD tokens\n",
    "- **Sequence Packing**: Efficient handling of variable-length sequences\n",
    "- **Padding Strategy**: Dynamic padding with attention to actual sequence lengths\n",
    "\n",
    "#### **2. Sophisticated Model Design**\n",
    "- **Bidirectional Processing**: Captures context from both directions\n",
    "- **Packed Sequences**: Ignores padding tokens during LSTM processing\n",
    "- **Dropout Regularization**: 0.5 dropout rate to prevent overfitting\n",
    "- **Weight Initialization**: Xavier normal for linear layers, orthogonal for LSTM weights\n",
    "\n",
    "#### **3. Training and Optimization**\n",
    "- **Loss Function**: Cross-entropy loss for binary classification\n",
    "- **Optimizer**: Adam optimizer with learning rate scheduling\n",
    "- **Evaluation Metrics**: Accuracy, precision, recall, F1-score\n",
    "- **Validation**: Proper train/validation split for model selection\n",
    "\n",
    "#### **4. Technical Implementation**\n",
    "- **Framework**: PyTorch with torchtext for NLP utilities\n",
    "- **Batching**: Efficient DataLoader with collate functions\n",
    "- **Memory Management**: Packed sequences for variable-length handling\n",
    "- **Reproducibility**: Fixed random seeds for consistent results\n",
    "\n",
    "### **Expected Outcomes**:\n",
    "- **Performance**: High accuracy on sentiment classification (>85%)\n",
    "- **Generalization**: Robust performance on unseen movie reviews\n",
    "- **Efficiency**: Fast inference through optimized sequence processing\n",
    "- **Interpretability**: Analysis of model predictions and learned representations\n",
    "\n",
    "### **Technical Highlights**:\n",
    "- **Dynamic Padding**: Efficient memory usage with sequence packing\n",
    "- **Bidirectional Context**: Enhanced representation through forward/backward processing\n",
    "- **Modern NLP Pipeline**: Complete preprocessing, training, and evaluation workflow\n",
    "- **Scalable Architecture**: Easily adaptable to other text classification tasks\n",
    "\n",
    "---\n",
    "\n",
    "## Implementation Details"
   ]
  },
  {
   "cell_type": "markdown",
   "id": "90de6104",
   "metadata": {},
   "source": [
    "### Environment Setup\n",
    "\n",
    "This project uses PyTorch with torchtext for NLP utilities. Ensure you have compatible versions installed for optimal performance."
   ]
  },
  {
   "cell_type": "code",
   "execution_count": null,
   "id": "eaa3fe35",
   "metadata": {},
   "outputs": [],
   "source": [
    "# Required packages installation (run if needed)\n",
    "# %pip install torch torchvision torchaudio\n",
    "# %pip install torchtext datasets"
   ]
  },
  {
   "cell_type": "code",
   "execution_count": 1,
   "id": "f23a152d",
   "metadata": {},
   "outputs": [
    {
     "name": "stderr",
     "output_type": "stream",
     "text": [
      "C:\\Users\\INK\\AppData\\Local\\Packages\\PythonSoftwareFoundation.Python.3.11_qbz5n2kfra8p0\\LocalCache\\local-packages\\Python311\\site-packages\\tqdm\\auto.py:21: TqdmWarning: IProgress not found. Please update jupyter and ipywidgets. See https://ipywidgets.readthedocs.io/en/stable/user_install.html\n",
      "  from .autonotebook import tqdm as notebook_tqdm\n"
     ]
    }
   ],
   "source": [
    "import collections\n",
    "import datasets\n",
    "import matplotlib.pyplot as plt\n",
    "import numpy as np\n",
    "import torch\n",
    "import torch.nn as nn\n",
    "import torch.optim as optim\n",
    "from torchtext.data import get_tokenizer\n",
    "from torchtext.vocab import build_vocab_from_iterator\n",
    "import torchtext\n",
    "import tqdm"
   ]
  },
  {
   "cell_type": "code",
   "execution_count": 66,
   "id": "c661e3c4",
   "metadata": {},
   "outputs": [],
   "source": [
    "seed = 1234\n",
    "\n",
    "np.random.seed(seed)\n",
    "torch.manual_seed(seed)\n",
    "torch.cuda.manual_seed(seed)\n",
    "torch.backends.cudnn.deterministic = True"
   ]
  },
  {
   "cell_type": "code",
   "execution_count": 67,
   "id": "638a120e",
   "metadata": {},
   "outputs": [],
   "source": [
    "# ================================================================\n",
    "# 1. Download IMDB movie‑review dataset\n",
    "# ‑ 25 000 positive + 25 000 negative reviews\n",
    "# ‑ Provided in \"train\" / \"test\" splits by default\n",
    "# ================================================================\n",
    "train_data, test_data = datasets.load_dataset(\"imdb\", split=[\"train\", \"test\"])"
   ]
  },
  {
   "cell_type": "code",
   "execution_count": 81,
   "id": "7b34799a",
   "metadata": {},
   "outputs": [],
   "source": [
    "tokenizer = get_tokenizer(\"basic_english\") # simple white‑space / punctuation"
   ]
  },
  {
   "cell_type": "code",
   "execution_count": null,
   "id": "6fa2f2e3",
   "metadata": {},
   "outputs": [],
   "source": [
    "# Tokenization helper function\n",
    "# tokenize_example() takes a raw example dict from datasets\n",
    "# and returns tokens + their length, capped at max_length\n",
    "def tokenize_example(example, tokenizer, max_length): # truncate long reviews\n",
    "    tokens = tokenizer(example[\"text\"])[:max_length]\n",
    "    length = len(tokens)\n",
    "    return {\"tokens\": tokens, \"length\": length}"
   ]
  },
  {
   "cell_type": "code",
   "execution_count": null,
   "id": "1f3a3894",
   "metadata": {},
   "outputs": [
    {
     "name": "stderr",
     "output_type": "stream",
     "text": [
      "Map: 100%|██████████| 25000/25000 [00:03<00:00, 7349.27 examples/s]\n",
      "Map: 100%|██████████| 25000/25000 [00:03<00:00, 7631.77 examples/s]\n"
     ]
    }
   ],
   "source": [
    "max_length = 256 # max length of review\n",
    "\n",
    "train_data = train_data.map(\n",
    "    tokenize_example, fn_kwargs={\"tokenizer\": tokenizer, \"max_length\": max_length}\n",
    ")\n",
    "test_data = test_data.map(\n",
    "    tokenize_example, fn_kwargs={\"tokenizer\": tokenizer, \"max_length\": max_length}\n",
    ")"
   ]
  },
  {
   "cell_type": "code",
   "execution_count": null,
   "id": "7e5bd85d",
   "metadata": {},
   "outputs": [],
   "source": [
    "# ================================================================\n",
    "# 3. Split Train → Train / Valid (25 % valid)\n",
    "# ================================================================\n",
    "test_size = 0.25 \n",
    "\n",
    "train_valid_data = train_data.train_test_split(test_size=test_size) \n",
    "train_data = train_valid_data[\"train\"] \n",
    "valid_data = train_valid_data[\"test\"] "
   ]
  },
  {
   "cell_type": "code",
   "execution_count": null,
   "id": "0bf984df",
   "metadata": {},
   "outputs": [],
   "source": [
    "# ================================================================\n",
    "# 4. Build Vocabulary\n",
    "# ------------------------------------------------\n",
    "#  • min_freq = 5    → drop ultra‑rare words\n",
    "#  • specials        → add <unk> AND <pad>\n",
    "# ================================================================\n",
    "min_freq = 5 # drop ultra‑rare words\n",
    "special_tokens = [\"<unk>\", \"<pad>\"]\n",
    "\n",
    "vocab = build_vocab_from_iterator(\n",
    "    train_data[\"tokens\"],\n",
    "    min_freq=min_freq,\n",
    "    specials=special_tokens,\n",
    ")"
   ]
  },
  {
   "cell_type": "code",
   "execution_count": 9,
   "id": "5147a8fd",
   "metadata": {},
   "outputs": [],
   "source": [
    "unk_index = vocab[\"<unk>\"]  \n",
    "pad_index = vocab[\"<pad>\"] "
   ]
  },
  {
   "cell_type": "code",
   "execution_count": 10,
   "id": "8b97bda7",
   "metadata": {},
   "outputs": [],
   "source": [
    "vocab.set_default_index(unk_index) # unknown words are replaced by <unk> token"
   ]
  },
  {
   "cell_type": "code",
   "execution_count": 11,
   "id": "843282aa",
   "metadata": {},
   "outputs": [],
   "source": [
    "# ================================================================\n",
    "# 5. Numericalise tokens → integer IDs\n",
    "# ------------------------------------------------\n",
    "# (map across all splits)\n",
    "# ================================================================\n",
    "def numericalize_example(example, vocab):\n",
    "    ids = vocab.lookup_indices(example[\"tokens\"])\n",
    "    return {\"ids\": ids}"
   ]
  },
  {
   "cell_type": "code",
   "execution_count": 12,
   "id": "885b504a",
   "metadata": {},
   "outputs": [
    {
     "name": "stderr",
     "output_type": "stream",
     "text": [
      "Map: 100%|██████████| 18750/18750 [00:05<00:00, 3670.02 examples/s]\n",
      "Map: 100%|██████████| 6250/6250 [00:01<00:00, 3679.68 examples/s]\n",
      "Map: 100%|██████████| 25000/25000 [00:06<00:00, 4120.10 examples/s]\n"
     ]
    }
   ],
   "source": [
    "train_data = train_data.map(numericalize_example, fn_kwargs={\"vocab\": vocab})\n",
    "valid_data = valid_data.map(numericalize_example, fn_kwargs={\"vocab\": vocab})\n",
    "test_data = test_data.map(numericalize_example, fn_kwargs={\"vocab\": vocab})"
   ]
  },
  {
   "cell_type": "code",
   "execution_count": 13,
   "id": "2b956558",
   "metadata": {},
   "outputs": [],
   "source": [
    "# ================================================================\n",
    "# 6. Convert dataset columns to PyTorch tensors (lazy)\n",
    "# ------------------------------------------------\n",
    "# Each example keeps: ids (LongTensor), label (int64), length (int64)\n",
    "# ================================================================\n",
    "train_data = train_data.with_format(type=\"torch\", columns=[\"ids\", \"label\", \"length\"])\n",
    "valid_data = valid_data.with_format(type=\"torch\", columns=[\"ids\", \"label\", \"length\"])\n",
    "test_data = test_data.with_format(type=\"torch\", columns=[\"ids\", \"label\", \"length\"])"
   ]
  },
  {
   "cell_type": "code",
   "execution_count": 18,
   "id": "53575424",
   "metadata": {},
   "outputs": [
    {
     "name": "stdout",
     "output_type": "stream",
     "text": [
      "['look', ',', 'this', 'is', 'quite', 'possibly', 'one', 'of', 'the', 'best', 'movies', 'america', 'has', 'to', 'offer'] 1\n"
     ]
    }
   ],
   "source": [
    "sample = train_data.with_format(\"python\")[0]      # temporary switch\n",
    "print(sample[\"tokens\"][:15], sample[\"label\"])\n",
    "train_data = train_data.with_format(              # switch back\n",
    "    type=\"torch\", columns=[\"ids\", \"label\", \"length\"]\n",
    ")"
   ]
  },
  {
   "cell_type": "code",
   "execution_count": 21,
   "id": "3a5e5883",
   "metadata": {},
   "outputs": [],
   "source": [
    "# ================================================================\n",
    "# 7. DataLoader with padding\n",
    "# ------------------------------------------------\n",
    "# get_collate_fn() handles:\n",
    "#  • pad_sequence() to align variable‑length batches\n",
    "#  • stack() the length / label tensors\n",
    "# ================================================================\n",
    "def get_collate_fn(pad_index):\n",
    "    def collate_fn(batch):\n",
    "        batch_ids = [i[\"ids\"] for i in batch]\n",
    "        batch_ids = nn.utils.rnn.pad_sequence(\n",
    "            batch_ids, padding_value=pad_index, batch_first=True\n",
    "        )\n",
    "        batch_length = [i[\"length\"] for i in batch]\n",
    "        batch_length = torch.stack(batch_length)\n",
    "        batch_label = [i[\"label\"] for i in batch]\n",
    "        batch_label = torch.stack(batch_label)\n",
    "        batch = {\"ids\": batch_ids, \"length\": batch_length, \"label\": batch_label}\n",
    "        return batch\n",
    "\n",
    "    return collate_fn"
   ]
  },
  {
   "cell_type": "code",
   "execution_count": 22,
   "id": "6a2bb50a",
   "metadata": {},
   "outputs": [],
   "source": [
    "def get_data_loader(dataset, batch_size, pad_index, shuffle=False):\n",
    "    collate_fn = get_collate_fn(pad_index)\n",
    "    data_loader = torch.utils.data.DataLoader(\n",
    "        dataset=dataset,\n",
    "        batch_size=batch_size,\n",
    "        collate_fn=collate_fn,\n",
    "        shuffle=shuffle,\n",
    "    )\n",
    "    return data_loader"
   ]
  },
  {
   "cell_type": "code",
   "execution_count": 23,
   "id": "2d8f0a73",
   "metadata": {},
   "outputs": [],
   "source": [
    "batch_size = 256\n",
    "\n",
    "train_data_loader = get_data_loader(train_data, batch_size, pad_index, shuffle=True)\n",
    "valid_data_loader = get_data_loader(valid_data, batch_size, pad_index)\n",
    "test_data_loader = get_data_loader(test_data, batch_size, pad_index)"
   ]
  },
  {
   "cell_type": "code",
   "execution_count": null,
   "id": "53427b55",
   "metadata": {},
   "outputs": [],
   "source": [
    "# Bidirectional LSTM Model for Sentiment Classification\n",
    "\n",
    "# ================================================================\n",
    "# 8. BI‑LSTM  Model for Sentence Classification\n",
    "# ------------------------------------------------\n",
    "# • Embedding   → pack_padded_sequence() → LSTM\n",
    "# • Use final hidden state(s) of last layer as sentence vector\n",
    "# • Dropout then Linear for 2‑class logits\n",
    "# ================================================================\n",
    "class LSTM(nn.Module):\n",
    "    \"\"\"\n",
    "    Bi‑directional LSTM based sentence classifier.\n",
    "\n",
    "    Input  : padded IDs   (B, T)\n",
    "    Output : logits       (B, C)\n",
    "    \"\"\"\n",
    "    def __init__(\n",
    "        self,\n",
    "        vocab_size: int,\n",
    "        embedding_dim: int,\n",
    "        hidden_dim: int,\n",
    "        output_dim: int,\n",
    "        n_layers: int,\n",
    "        bidirectional: bool,\n",
    "        dropout_rate: float,\n",
    "        pad_index: int,\n",
    "    ):\n",
    "        super().__init__()\n",
    "\n",
    "        # --- 1. Token IDs → vectors -----------------------------------------\n",
    "        self.embedding = nn.Embedding(\n",
    "            num_embeddings = vocab_size,\n",
    "            embedding_dim  = embedding_dim,\n",
    "            padding_idx    = pad_index,      # padded positions are zeros\n",
    "        )\n",
    "\n",
    "        # --- 2. LSTM encoder -------------------------------------------------\n",
    "        self.encoder = nn.LSTM(\n",
    "            input_size   = embedding_dim,\n",
    "            hidden_size  = hidden_dim,\n",
    "            num_layers   = n_layers,\n",
    "            bidirectional= bidirectional,\n",
    "            batch_first  = True,             # (B, T, E)\n",
    "            dropout      = dropout_rate if n_layers > 1 else 0.0,\n",
    "        )\n",
    "\n",
    "        # --- 3. Classifier head ---------------------------------------------\n",
    "        direction_mult = 2 if bidirectional else 1\n",
    "        self.dropout = nn.Dropout(dropout_rate)\n",
    "        self.fc      = nn.Linear(hidden_dim * direction_mult, output_dim)\n",
    "\n",
    "    def forward(self, ids: torch.Tensor, lengths: torch.Tensor) -> torch.Tensor:\n",
    "        \"\"\"\n",
    "        ids     : LongTensor (B, T)\n",
    "        lengths : LongTensor (B,)  – true lengths (CPU acceptable)\n",
    "        return  : logits      (B, C)\n",
    "        \"\"\"\n",
    "        # (B, T) -> (B, T, E)\n",
    "        embedded = self.embedding(ids)\n",
    "\n",
    "        # Tell LSTM to ignore <pad> tokens via packed sequences\n",
    "        packed_emb = nn.utils.rnn.pack_padded_sequence(\n",
    "            embedded, lengths.cpu(), batch_first=True, enforce_sorted=False\n",
    "        )\n",
    "        packed_out, (hidden, _) = self.encoder(packed_emb)\n",
    "        # hidden shape: (num_layers * num_directions, B, H)\n",
    "\n",
    "        # Grab last layer's hidden state(s)\n",
    "        if self.encoder.bidirectional:\n",
    "            # Concatenate last forward & backward hidden states\n",
    "            sentence_vec = torch.cat((hidden[-2], hidden[-1]), dim=1)  # (B, 2H)\n",
    "        else:\n",
    "            sentence_vec = hidden[-1]                                  # (B, H)\n",
    "\n",
    "        outputs = self.dropout(sentence_vec)\n",
    "        logits  = self.fc(outputs)\n",
    "        return logits\n",
    "\n"
   ]
  },
  {
   "cell_type": "code",
   "execution_count": 25,
   "id": "11206188",
   "metadata": {},
   "outputs": [],
   "source": [
    "# ---------------------------------------------------------------\n",
    "# Model hyper‑parameters (can be tweaked)\n",
    "# ---------------------------------------------------------------\n",
    "vocab_size = len(vocab)\n",
    "embedding_dim = 300\n",
    "hidden_dim = 300\n",
    "output_dim = len(train_data.unique(\"label\"))\n",
    "n_layers = 2\n",
    "bidirectional = True\n",
    "dropout_rate = 0.5\n",
    "\n",
    "model = LSTM(\n",
    "    vocab_size,\n",
    "    embedding_dim,\n",
    "    hidden_dim,\n",
    "    output_dim,\n",
    "    n_layers,\n",
    "    bidirectional,\n",
    "    dropout_rate,\n",
    "    pad_index,\n",
    ")"
   ]
  },
  {
   "cell_type": "code",
   "execution_count": 26,
   "id": "5feb9512",
   "metadata": {},
   "outputs": [
    {
     "name": "stdout",
     "output_type": "stream",
     "text": [
      "The model has 10,101,302 trainable parameters\n"
     ]
    }
   ],
   "source": [
    "# Utility: count only trainable parameters\n",
    "def count_parameters(model):\n",
    "    return sum(p.numel() for p in model.parameters() if p.requires_grad)\n",
    "\n",
    "\n",
    "print(f\"The model has {count_parameters(model):,} trainable parameters\")"
   ]
  },
  {
   "cell_type": "code",
   "execution_count": null,
   "id": "3edc8e02",
   "metadata": {},
   "outputs": [],
   "source": [
    "# ================================================================\n",
    "# 9. Weight Initialization\n",
    "# ------------------------------------------------\n",
    "#  • Linear  → Xavier (Glorot) + zero bias\n",
    "#  • LSTM    → orthogonal recurrent weights, zero biases\n",
    "# ================================================================\n",
    "def initialize_weights(m):\n",
    "    if isinstance(m, nn.Linear):\n",
    "        nn.init.xavier_normal_(m.weight)\n",
    "        nn.init.zeros_(m.bias)\n",
    "    elif isinstance(m, nn.LSTM):\n",
    "        for name, param in m.named_parameters():\n",
    "            if \"bias\" in name:\n",
    "                nn.init.zeros_(param)\n",
    "            elif \"weight\" in name:\n",
    "                nn.init.orthogonal_(param)"
   ]
  },
  {
   "cell_type": "code",
   "execution_count": 28,
   "id": "98490c40",
   "metadata": {},
   "outputs": [
    {
     "data": {
      "text/plain": [
       "LSTM(\n",
       "  (embedding): Embedding(21635, 300, padding_idx=1)\n",
       "  (encoder): LSTM(300, 300, num_layers=2, batch_first=True, dropout=0.5, bidirectional=True)\n",
       "  (dropout): Dropout(p=0.5, inplace=False)\n",
       "  (fc): Linear(in_features=600, out_features=2, bias=True)\n",
       ")"
      ]
     },
     "execution_count": 28,
     "metadata": {},
     "output_type": "execute_result"
    }
   ],
   "source": [
    "model.apply(initialize_weights)"
   ]
  },
  {
   "cell_type": "code",
   "execution_count": null,
   "id": "72bfd654",
   "metadata": {},
   "outputs": [
    {
     "name": "stderr",
     "output_type": "stream",
     "text": [
      ".vector_cache\\glove.840B.300d.zip: 2.18GB [28:01, 1.29MB/s]                               \n",
      "100%|█████████▉| 2196016/2196017 [02:19<00:00, 15699.83it/s]\n"
     ]
    }
   ],
   "source": [
    "# ================================================================\n",
    "# 10. Load pretrained GloVe embeddings\n",
    "# ------------------------------------------------\n",
    "#  • torchtext's GloVe 2 × 300d vectors (~822 MB on first download)\n",
    "#  • Replace the random embedding matrix with pretrained weights\n",
    "#  • OOV words keep random init (because vocab.set_default_index already handled)\n",
    "# ================================================================\n",
    "vectors = torchtext.vocab.GloVe()"
   ]
  },
  {
   "cell_type": "code",
   "execution_count": 30,
   "id": "6ec1ed34",
   "metadata": {},
   "outputs": [],
   "source": [
    "pretrained_embedding = vectors.get_vecs_by_tokens(vocab.get_itos())"
   ]
  },
  {
   "cell_type": "code",
   "execution_count": 31,
   "id": "7489711f",
   "metadata": {},
   "outputs": [],
   "source": [
    "model.embedding.weight.data = pretrained_embedding"
   ]
  },
  {
   "cell_type": "code",
   "execution_count": null,
   "id": "e2d0b14e",
   "metadata": {},
   "outputs": [],
   "source": [
    "# ================================================================\n",
    "# 11. Optimizer + Loss\n",
    "# ================================================================\n",
    "lr = 5e-4\n",
    "\n",
    "optimizer = optim.Adam(model.parameters(), lr=lr)"
   ]
  },
  {
   "cell_type": "code",
   "execution_count": 33,
   "id": "d798a6bd",
   "metadata": {},
   "outputs": [],
   "source": [
    "criterion = nn.CrossEntropyLoss()"
   ]
  },
  {
   "cell_type": "code",
   "execution_count": 34,
   "id": "4a780705",
   "metadata": {},
   "outputs": [
    {
     "data": {
      "text/plain": [
       "device(type='cpu')"
      ]
     },
     "execution_count": 34,
     "metadata": {},
     "output_type": "execute_result"
    }
   ],
   "source": [
    "device = torch.device(\"cuda\" if torch.cuda.is_available() else \"cpu\")\n",
    "\n",
    "device"
   ]
  },
  {
   "cell_type": "code",
   "execution_count": 39,
   "id": "5c8302f0",
   "metadata": {},
   "outputs": [],
   "source": [
    "# ================================================================\n",
    "# 12. Move model & criterion to GPU (if available)\n",
    "# ================================================================\n",
    "model = model.to(device)\n",
    "criterion = criterion.to(device)"
   ]
  },
  {
   "cell_type": "code",
   "execution_count": null,
   "id": "8a1e9b07",
   "metadata": {},
   "outputs": [],
   "source": [
    "# ================================================================\n",
    "# 13. Training / Evaluation Loops\n",
    "# ================================================================\n",
    "def train(dataloader, model, criterion, optimizer, device):\n",
    "    \"\"\"\n",
    "    prediction : logits (B, C)\n",
    "    label      : ground‑truth class (B,)\n",
    "    returns    : scalar tensor accuracy\n",
    "    \"\"\"\n",
    "    model.train()\n",
    "    epoch_losses = []\n",
    "    epoch_accs = []\n",
    "    for batch in tqdm.tqdm(dataloader, desc=\"training...\"):\n",
    "        ids = batch[\"ids\"].to(device)\n",
    "        length = batch[\"length\"]\n",
    "        label = batch[\"label\"].to(device)\n",
    "        prediction = model(ids, length)\n",
    "        loss = criterion(prediction, label)\n",
    "        accuracy = get_accuracy(prediction, label)\n",
    "        optimizer.zero_grad()\n",
    "        loss.backward()\n",
    "        optimizer.step()\n",
    "        epoch_losses.append(loss.item())\n",
    "        epoch_accs.append(accuracy.item())\n",
    "    return np.mean(epoch_losses), np.mean(epoch_accs)"
   ]
  },
  {
   "cell_type": "code",
   "execution_count": 37,
   "id": "c7988786",
   "metadata": {},
   "outputs": [],
   "source": [
    "def evaluate(dataloader, model, criterion, device):\n",
    "    model.eval()\n",
    "    epoch_losses = []\n",
    "    epoch_accs = []\n",
    "    with torch.no_grad():\n",
    "        for batch in tqdm.tqdm(dataloader, desc=\"evaluating...\"):\n",
    "            ids = batch[\"ids\"].to(device)\n",
    "            length = batch[\"length\"]\n",
    "            label = batch[\"label\"].to(device)\n",
    "            prediction = model(ids, length)\n",
    "            loss = criterion(prediction, label)\n",
    "            accuracy = get_accuracy(prediction, label)\n",
    "            epoch_losses.append(loss.item())\n",
    "            epoch_accs.append(accuracy.item())\n",
    "    return np.mean(epoch_losses), np.mean(epoch_accs)"
   ]
  },
  {
   "cell_type": "code",
   "execution_count": 38,
   "id": "d66535bd",
   "metadata": {},
   "outputs": [],
   "source": [
    "def get_accuracy(prediction, label):\n",
    "    batch_size, _ = prediction.shape\n",
    "    predicted_classes = prediction.argmax(dim=-1)\n",
    "    correct_predictions = predicted_classes.eq(label).sum()\n",
    "    accuracy = correct_predictions / batch_size\n",
    "    return accuracy"
   ]
  },
  {
   "cell_type": "code",
   "execution_count": 68,
   "id": "24c05b57",
   "metadata": {},
   "outputs": [
    {
     "name": "stderr",
     "output_type": "stream",
     "text": [
      "training...: 100%|██████████| 74/74 [51:32<00:00, 41.79s/it]\n",
      "evaluating...: 100%|██████████| 25/25 [00:47<00:00,  1.91s/it]\n"
     ]
    },
    {
     "name": "stdout",
     "output_type": "stream",
     "text": [
      "epoch: 0\n",
      "train_loss: 0.430, train_acc: 0.811\n",
      "valid_loss: 0.400, valid_acc: 0.820\n"
     ]
    },
    {
     "name": "stderr",
     "output_type": "stream",
     "text": [
      "training...: 100%|██████████| 74/74 [58:18<00:00, 47.28s/it]\n",
      "evaluating...: 100%|██████████| 25/25 [00:47<00:00,  1.90s/it]\n"
     ]
    },
    {
     "name": "stdout",
     "output_type": "stream",
     "text": [
      "epoch: 1\n",
      "train_loss: 0.440, train_acc: 0.799\n",
      "valid_loss: 0.351, valid_acc: 0.843\n"
     ]
    },
    {
     "name": "stderr",
     "output_type": "stream",
     "text": [
      "training...: 100%|██████████| 74/74 [54:40<00:00, 44.33s/it]\n",
      "evaluating...: 100%|██████████| 25/25 [00:48<00:00,  1.94s/it]"
     ]
    },
    {
     "name": "stdout",
     "output_type": "stream",
     "text": [
      "epoch: 2\n",
      "train_loss: 0.281, train_acc: 0.887\n",
      "valid_loss: 0.320, valid_acc: 0.864\n"
     ]
    },
    {
     "name": "stderr",
     "output_type": "stream",
     "text": [
      "\n"
     ]
    }
   ],
   "source": [
    "# ================================================================\n",
    "# 14. Main training loop (save best model by valid loss)\n",
    "# ================================================================\n",
    "n_epochs = 3 # because of my hardware conditions, I set it to 3 epochs instead of 10\n",
    "best_valid_loss = float(\"inf\")\n",
    "\n",
    "metrics = collections.defaultdict(list)\n",
    "\n",
    "for epoch in range(n_epochs):\n",
    "    train_loss, train_acc = train(\n",
    "        train_data_loader, model, criterion, optimizer, device\n",
    "    )\n",
    "    valid_loss, valid_acc = evaluate(valid_data_loader, model, criterion, device)\n",
    "    metrics[\"train_losses\"].append(train_loss)\n",
    "    metrics[\"train_accs\"].append(train_acc)\n",
    "    metrics[\"valid_losses\"].append(valid_loss)\n",
    "    metrics[\"valid_accs\"].append(valid_acc)\n",
    "    if valid_loss < best_valid_loss:\n",
    "        best_valid_loss = valid_loss\n",
    "        torch.save(model.state_dict(), \"lstm.pt\")\n",
    "    print(f\"epoch: {epoch}\")\n",
    "    print(f\"train_loss: {train_loss:.3f}, train_acc: {train_acc:.3f}\")\n",
    "    print(f\"valid_loss: {valid_loss:.3f}, valid_acc: {valid_acc:.3f}\")"
   ]
  },
  {
   "cell_type": "code",
   "execution_count": 69,
   "id": "b360d0cd",
   "metadata": {},
   "outputs": [
    {
     "data": {
      "image/png": "[encoded data removed]",
      "text/plain": [
       "<Figure size 1000x600 with 1 Axes>"
      ]
     },
     "metadata": {},
     "output_type": "display_data"
    }
   ],
   "source": [
    "# ================================================================\n",
    "# 15. Plot learning curves\n",
    "# ================================================================\n",
    "fig = plt.figure(figsize=(10, 6))\n",
    "ax = fig.add_subplot(1, 1, 1)\n",
    "ax.plot(metrics[\"train_losses\"], label=\"train loss\")\n",
    "ax.plot(metrics[\"valid_losses\"], label=\"valid loss\")\n",
    "ax.set_xlabel(\"epoch\")\n",
    "ax.set_ylabel(\"loss\")\n",
    "ax.set_xticks(range(n_epochs))\n",
    "ax.legend()\n",
    "ax.grid()"
   ]
  },
  {
   "cell_type": "code",
   "execution_count": 70,
   "id": "742a6855",
   "metadata": {},
   "outputs": [
    {
     "data": {
      "image/png": "[encoded data removed]",
      "text/plain": [
       "<Figure size 1000x600 with 1 Axes>"
      ]
     },
     "metadata": {},
     "output_type": "display_data"
    }
   ],
   "source": [
    "fig = plt.figure(figsize=(10, 6))\n",
    "ax = fig.add_subplot(1, 1, 1)\n",
    "ax.plot(metrics[\"train_accs\"], label=\"train accuracy\")\n",
    "ax.plot(metrics[\"valid_accs\"], label=\"valid accuracy\")\n",
    "ax.set_xlabel(\"epoch\")\n",
    "ax.set_ylabel(\"loss\")\n",
    "ax.set_xticks(range(n_epochs))\n",
    "ax.legend()\n",
    "ax.grid()"
   ]
  },
  {
   "cell_type": "code",
   "execution_count": 71,
   "id": "8b89f53f",
   "metadata": {},
   "outputs": [
    {
     "name": "stderr",
     "output_type": "stream",
     "text": [
      "evaluating...: 100%|██████████| 98/98 [03:10<00:00,  1.95s/it]\n"
     ]
    }
   ],
   "source": [
    "# ================================================================\n",
    "# 16. Test‑set evaluation (load best checkpoint)\n",
    "# ================================================================\n",
    "model.load_state_dict(torch.load(\"lstm.pt\"))\n",
    "\n",
    "test_loss, test_acc = evaluate(test_data_loader, model, criterion, device)"
   ]
  },
  {
   "cell_type": "code",
   "execution_count": 72,
   "id": "10bc7bc3",
   "metadata": {},
   "outputs": [
    {
     "name": "stdout",
     "output_type": "stream",
     "text": [
      "test_loss: 0.335, test_acc: 0.854\n"
     ]
    }
   ],
   "source": [
    "print(f\"test_loss: {test_loss:.3f}, test_acc: {test_acc:.3f}\")"
   ]
  },
  {
   "cell_type": "code",
   "execution_count": 75,
   "id": "c07df383",
   "metadata": {},
   "outputs": [],
   "source": [
    "# ================================================================\n",
    "# 17. Convenience function: predict sentiment for a raw string\n",
    "# ================================================================\n",
    "def predict_sentiment(text, model, tokenizer, vocab, device):\n",
    "    \"\"\"\n",
    "    Returns predicted class (0 = neg, 1 = pos) and its probability.\n",
    "    \"\"\"\n",
    "    tokens = tokenizer(text)\n",
    "    ids = vocab.lookup_indices(tokens)\n",
    "    length = torch.LongTensor([len(ids)])\n",
    "    tensor = torch.LongTensor(ids).unsqueeze(dim=0).to(device)\n",
    "    prediction = model(tensor, length).squeeze(dim=0)\n",
    "    probability = torch.softmax(prediction, dim=-1)\n",
    "    predicted_class = prediction.argmax(dim=-1).item()\n",
    "    predicted_probability = probability[predicted_class].item()\n",
    "    return predicted_class, predicted_probability"
   ]
  },
  {
   "cell_type": "code",
   "execution_count": 82,
   "id": "8d9d591d",
   "metadata": {},
   "outputs": [
    {
     "data": {
      "text/plain": [
       "(0, 0.9369540810585022)"
      ]
     },
     "execution_count": 82,
     "metadata": {},
     "output_type": "execute_result"
    }
   ],
   "source": [
    "text = \"This film is terrible!\"\n",
    "\n",
    "predict_sentiment(text, model, tokenizer, vocab, device)"
   ]
  },
  {
   "cell_type": "code",
   "execution_count": 83,
   "id": "f392b05a",
   "metadata": {},
   "outputs": [
    {
     "data": {
      "text/plain": [
       "(1, 0.881648600101471)"
      ]
     },
     "execution_count": 83,
     "metadata": {},
     "output_type": "execute_result"
    }
   ],
   "source": [
    "text = \"This film is great!\"\n",
    "\n",
    "predict_sentiment(text, model, tokenizer, vocab, device)"
   ]
  },
  {
   "cell_type": "code",
   "execution_count": 84,
   "id": "3196951d",
   "metadata": {},
   "outputs": [
    {
     "data": {
      "text/plain": [
       "(0, 0.6538264751434326)"
      ]
     },
     "execution_count": 84,
     "metadata": {},
     "output_type": "execute_result"
    }
   ],
   "source": [
    "text = \"This film is not terrible, it's great!\"\n",
    "\n",
    "predict_sentiment(text, model, tokenizer, vocab, device)"
   ]
  },
  {
   "cell_type": "code",
   "execution_count": 86,
   "id": "c35aeb03",
   "metadata": {},
   "outputs": [
    {
     "data": {
      "text/plain": [
       "(0, 0.779675304889679)"
      ]
     },
     "execution_count": 86,
     "metadata": {},
     "output_type": "execute_result"
    }
   ],
   "source": [
    "text = \"This film is not great, it's terrible!\"\n",
    "\n",
    "predict_sentiment(text, model, tokenizer, vocab, device)"
   ]
  }
 ],
 "metadata": {
  "kernelspec": {
   "display_name": "Python 3",
   "language": "python",
   "name": "python3"
  },
  "language_info": {
   "codemirror_mode": {
    "name": "ipython",
    "version": 3
   },
   "file_extension": ".py",
   "mimetype": "text/x-python",
   "name": "python",
   "nbconvert_exporter": "python",
   "pygments_lexer": "ipython3",
   "version": "3.11.9"
  }
 },
 "nbformat": 4,
 "nbformat_minor": 5
}
